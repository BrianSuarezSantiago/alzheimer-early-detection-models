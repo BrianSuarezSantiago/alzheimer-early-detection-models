{
 "cells": [
  {
   "cell_type": "code",
   "execution_count": null,
   "metadata": {
    "papermill": {
     "duration": 15.406057,
     "end_time": "2024-02-05T21:17:17.675386",
     "exception": false,
     "start_time": "2024-02-05T21:17:02.269329",
     "status": "completed"
    },
    "tags": []
   },
   "outputs": [],
   "source": [
    "# Imports all necessary libraries for data processing, visualization, model building, training, and evaluation in a multiclass CNN workflow\n",
    "import os\n",
    "import cv2\n",
    "import pandas as pd\n",
    "import numpy as np\n",
    "import matplotlib.pyplot as plt\n",
    "import seaborn as sns\n",
    "from sklearn.model_selection import train_test_split\n",
    "from sklearn.preprocessing import LabelEncoder\n",
    "from tensorflow.keras.preprocessing.image import ImageDataGenerator\n",
    "import keras\n",
    "from keras.callbacks import EarlyStopping, ModelCheckpoint\n",
    "import tensorflow as tf\n",
    "from sklearn.metrics import confusion_matrix\n",
    "from sklearn.metrics import classification_report\n",
    "from tqdm import tqdm\n",
    "from imblearn.over_sampling import SMOTE"
   ]
  },
  {
   "cell_type": "code",
   "execution_count": null,
   "metadata": {
    "papermill": {
     "duration": 1.577686,
     "end_time": "2024-02-05T21:17:19.274256",
     "exception": false,
     "start_time": "2024-02-05T21:17:17.696570",
     "status": "completed"
    },
    "tags": []
   },
   "outputs": [],
   "source": [
    "# Loads image file paths and corresponding labels from the dataset directory and creates a DataFrame for further processing\n",
    "images = []\n",
    "labels = []\n",
    "\n",
    "for subfolder in tqdm(os.listdir('/kaggle/input/alzheimers-mri-images/Processed Dataset')):\n",
    "    subfolder_path = os.path.join('/kaggle/input/alzheimers-mri-images/Processed Dataset', subfolder)\n",
    "\n",
    "    for folder in os.listdir(subfolder_path):\n",
    "        subfolder_path2 = os.path.join(subfolder_path, folder)\n",
    "\n",
    "        for image_filename in os.listdir(subfolder_path2):\n",
    "            image_path = os.path.join(subfolder_path2, image_filename)\n",
    "            images.append(image_path)\n",
    "            labels.append(folder)"
   ]
  },
  {
   "cell_type": "code",
   "execution_count": null,
   "metadata": {
    "papermill": {
     "duration": 0.34705,
     "end_time": "2024-02-05T21:17:19.646556",
     "exception": false,
     "start_time": "2024-02-05T21:17:19.299506",
     "status": "completed"
    },
    "tags": []
   },
   "outputs": [],
   "source": [
    "# Creates a DataFrame with image file paths and their corresponding labels\n",
    "df = pd.DataFrame({'image': images, 'label': labels})\n",
    "\n",
    "# Displays the first few rows of the DataFrame to verify its contents\n",
    "df\n",
    "\n",
    "# Visualizes the class distribution in the dataset using a bar plot\n",
    "plt.figure(figsize = (15, 8))\n",
    "ax = sns.countplot(x = df.label, palette = 'Set1')\n",
    "ax.set_xlabel(\"Class\", fontsize = 20)\n",
    "ax.set_ylabel(\"Count\", fontsize = 20)\n",
    "plt.title('The Number Of Samples For Each Class', fontsize = 20)\n",
    "plt.grid(True)\n",
    "plt.xticks(rotation = 45)\n",
    "plt.show()"
   ]
  },
  {
   "cell_type": "code",
   "execution_count": null,
   "metadata": {
    "papermill": {
     "duration": 7.911103,
     "end_time": "2024-02-05T21:17:27.566275",
     "exception": false,
     "start_time": "2024-02-05T21:17:19.655172",
     "status": "completed"
    },
    "tags": []
   },
   "outputs": [],
   "source": [
    "# Displays a random sample of images from the dataset with their corresponding class labels\n",
    "plt.figure(figsize = (50, 50))\n",
    "\n",
    "for n, i in enumerate(np.random.randint(0, len(df), 50)):\n",
    "    plt.subplot(10, 5, n + 1)\n",
    "    img = cv2.imread(df.image[i])\n",
    "    img = cv2.resize(img, (224, 224))\n",
    "    img = cv2.cvtColor(img, cv2.COLOR_BGR2RGB)\n",
    "    plt.imshow(img)\n",
    "    plt.axis('off')\n",
    "    plt.title(df.label[i], fontsize = 25)"
   ]
  },
  {
   "cell_type": "code",
   "execution_count": null,
   "metadata": {
    "papermill": {
     "duration": 9.436857,
     "end_time": "2024-02-05T21:17:37.164023",
     "exception": false,
     "start_time": "2024-02-05T21:17:27.727166",
     "status": "completed"
    },
    "tags": []
   },
   "outputs": [],
   "source": [
    "# Prepares the image data generator and loads all images and labels into memory for model training\n",
    "Size = (176, 176)\n",
    "\n",
    "work_dr = ImageDataGenerator(\n",
    "    rescale = 1. / 255\n",
    ")\n",
    "\n",
    "train_data_gen = work_dr.flow_from_dataframe(df, x_col = 'image', y_col = 'label', target_size = Size, batch_size = 6500, shuffle = False)\n",
    "\n",
    "# Retrieves the image data and labels from the data generator for further processing\n",
    "train_data, train_labels = next(train_data_gen)\n",
    "\n",
    "# Obtains the list of class names from the data generator\n",
    "class_num = list(train_data_gen.class_indices.keys())\n",
    "class_num"
   ]
  },
  {
   "cell_type": "code",
   "execution_count": null,
   "metadata": {
    "papermill": {
     "duration": 27.432064,
     "end_time": "2024-02-05T21:18:41.036791",
     "exception": false,
     "start_time": "2024-02-05T21:18:13.604727",
     "status": "completed"
    },
    "tags": []
   },
   "outputs": [],
   "source": [
    "# Applies SMOTE to balance the dataset by oversampling minority classes and reshapes the data for model input\n",
    "sm = SMOTE(random_state = 42)\n",
    "train_data, train_labels = sm.fit_resample(train_data.reshape(-1, 176 * 176 * 3), train_labels)\n",
    "train_data = train_data.reshape(-1, 176, 176, 3)\n",
    "print(train_data.shape, train_labels.shape)"
   ]
  },
  {
   "cell_type": "code",
   "execution_count": null,
   "metadata": {
    "papermill": {
     "duration": 0.324666,
     "end_time": "2024-02-05T21:18:41.417154",
     "exception": false,
     "start_time": "2024-02-05T21:18:41.092488",
     "status": "completed"
    },
    "tags": []
   },
   "outputs": [],
   "source": [
    "# Visualizes the class distribution after applying SMOTE to ensure balanced classes\n",
    "labels = [class_num[i] for i in np.argmax(train_labels, axis = 1)]\n",
    "plt.figure(figsize = (15, 8))\n",
    "ax = sns.countplot(x = labels, palette = 'Set1')\n",
    "ax.set_xlabel(\"Class\", fontsize = 20)\n",
    "ax.set_ylabel(\"Count\", fontsize = 20)\n",
    "plt.title('The Number Of Samples For Each Class', fontsize = 20)\n",
    "plt.grid(True)\n",
    "plt.xticks(rotation = 45)\n",
    "plt.show()"
   ]
  },
  {
   "cell_type": "code",
   "execution_count": null,
   "metadata": {
    "papermill": {
     "duration": 1.995027,
     "end_time": "2024-02-05T21:18:43.465680",
     "exception": false,
     "start_time": "2024-02-05T21:18:41.470653",
     "status": "completed"
    },
    "tags": []
   },
   "outputs": [],
   "source": [
    "# Splits the balanced dataset into training, validation, and test sets and prints their shapes\n",
    "X_train, X_test1, y_train, y_test1 = train_test_split(train_data, train_labels, test_size = 0.3, random_state = 42, shuffle = True, stratify = train_labels)\n",
    "X_val, X_test, y_val, y_test = train_test_split(X_test1, y_test1, test_size = 0.5, random_state = 42, shuffle = True, stratify = y_test1)\n",
    "\n",
    "print('X_train shape is ', X_train.shape)\n",
    "print('X_test shape is ', X_test.shape)\n",
    "print('X_val shape is ', X_val.shape)\n",
    "print('y_train shape is ', y_train.shape)\n",
    "print('y_test shape is ', y_test.shape)\n",
    "print('y_val shape is ', y_val.shape)"
   ]
  },
  {
   "cell_type": "code",
   "execution_count": null,
   "metadata": {
    "papermill": {
     "duration": 1.412983,
     "end_time": "2024-02-05T21:18:45.036807",
     "exception": false,
     "start_time": "2024-02-05T21:18:43.623824",
     "status": "completed"
    },
    "tags": []
   },
   "outputs": [],
   "source": [
    "# Defines the architecture of the convolutional neural network for multiclass classification\n",
    "model = keras.models.Sequential()\n",
    "\n",
    "# Builds the CNN model with multiple convolutional and pooling layers\n",
    "model.add(keras.layers.Conv2D(32, kernel_size = (3, 3), strides = 2, padding = 'same', activation = 'relu', input_shape = (176, 176, 3)))\n",
    "model.add(keras.layers.MaxPool2D(pool_size = (2, 2), strides = 2, padding = 'same'))\n",
    "\n",
    "model.add(keras.layers.Conv2D(64, kernel_size = (3, 3), strides = 2, activation = 'relu', padding = 'same'))\n",
    "model.add(keras.layers.MaxPool2D((2, 2), 2, padding = 'same'))\n",
    "\n",
    "model.add(keras.layers.Conv2D(128, kernel_size = (3, 3), strides = 2, activation = 'relu', padding = 'same'))\n",
    "model.add(keras.layers.MaxPool2D((2, 2), 2, padding = 'same'))\n",
    "\n",
    "model.add(keras.layers.Flatten())\n",
    "model.add(keras.layers.Dense(1024, activation = 'relu'))\n",
    "\n",
    "model.add(keras.layers.Dropout(0.3))\n",
    "model.add(keras.layers.Dense(4, activation = 'softmax'))"
   ]
  },
  {
   "cell_type": "code",
   "execution_count": null,
   "metadata": {},
   "outputs": [],
   "source": [
    "# Displays a summary and a visual diagram of the model architecture\n",
    "model.summary()\n",
    "\n",
    "tf.keras.utils.plot_model(model, to_file = 'model.png', show_shapes = True, show_layer_names = True, show_dtype = True, dpi = 120)\n",
    "\n",
    "# Compiles the model, sets up callbacks, and trains the model using the training and validation sets\n",
    "checkpoint_cb = ModelCheckpoint(\"Complex_CNN_model.keras\", save_best_only = True)\n",
    "\n",
    "early_stopping_cb = EarlyStopping(patience = 10, restore_best_weights = True)\n",
    "\n",
    "model.compile(optimizer = 'adam', loss = 'categorical_crossentropy', metrics = ['accuracy'])\n",
    "\n",
    "hist = model.fit(X_train, y_train, epochs = 50, validation_data = (X_val, y_val), callbacks = [checkpoint_cb, early_stopping_cb])\n",
    "\n",
    "# Converts the training history to a DataFrame for further analysis\n",
    "hist_ = pd.DataFrame(hist.history)\n",
    "hist_"
   ]
  },
  {
   "cell_type": "code",
   "execution_count": null,
   "metadata": {
    "papermill": {
     "duration": 25.580559,
     "end_time": "2024-02-05T21:21:16.477356",
     "exception": false,
     "start_time": "2024-02-05T21:20:50.896797",
     "status": "completed"
    },
    "tags": []
   },
   "outputs": [],
   "source": [
    "# Plots the training and validation loss and accuracy over epochs to visualize model performance\n",
    "plt.figure(figsize = (15, 10))\n",
    "plt.subplot(1, 2, 1)\n",
    "plt.plot(hist_['loss'], label = 'Train_Loss')\n",
    "plt.plot(hist_['val_loss'], label = 'Validation_Loss')\n",
    "plt.title('Train_Loss & Validation_Loss', fontsize = 20)\n",
    "plt.legend()\n",
    "plt.subplot(1, 2, 2)\n",
    "plt.plot(hist_['accuracy'], label = 'Train_Accuracy')\n",
    "plt.plot(hist_['val_accuracy'], label = 'Validation_Accuracy')\n",
    "plt.title('Train_Accuracy & Validation_Accuracy', fontsize = 20)\n",
    "plt.legend()\n",
    "plt.show()"
   ]
  },
  {
   "cell_type": "code",
   "execution_count": null,
   "metadata": {
    "papermill": {
     "duration": 2.276152,
     "end_time": "2024-02-05T21:21:18.962932",
     "exception": false,
     "start_time": "2024-02-05T21:21:16.686780",
     "status": "completed"
    },
    "tags": []
   },
   "outputs": [],
   "source": [
    "# Evaluates the trained model on the test set and prints the test loss and accuracy\n",
    "score, acc = model.evaluate(X_test, y_test)\n",
    "\n",
    "print('Test Loss =', score)\n",
    "print('Test Accuracy =', acc)\n",
    "\n",
    "# Generates predictions on the test set\n",
    "predictions = model.predict(X_test)\n",
    "y_pred = np.argmax(predictions, axis = 1)\n",
    "y_test_ = np.argmax(y_test, axis = 1)\n",
    "\n",
    "# Creates a DataFrame comparing actual and predicted class labels\n",
    "df = pd.DataFrame({'Actual': y_test_, 'Prediction': y_pred})\n",
    "df"
   ]
  },
  {
   "cell_type": "code",
   "execution_count": null,
   "metadata": {
    "papermill": {
     "duration": 9.148367,
     "end_time": "2024-02-05T21:21:30.873674",
     "exception": false,
     "start_time": "2024-02-05T21:21:21.725307",
     "status": "completed"
    },
    "tags": []
   },
   "outputs": [],
   "source": [
    "# Displays a random sample of test images with their actual and predicted class labels and prediction confidence\n",
    "plt.figure(figsize = (30, 70))\n",
    "\n",
    "for n, i in enumerate(np.random.randint(0, len(X_test), 50)):\n",
    "    plt.subplot(10, 5, n + 1)\n",
    "    plt.imshow(X_test[i])\n",
    "    plt.axis('off')\n",
    "    plt.title(f\"Actual: {class_num[y_test_[i]]}, \\n Predicted: {class_num[y_pred[i]]}.\\n Confidence: {round(predictions[i][np.argmax(predictions[i])], 0)}%\", fontsize = 20)"
   ]
  },
  {
   "cell_type": "code",
   "execution_count": null,
   "metadata": {
    "papermill": {
     "duration": 0.487393,
     "end_time": "2024-02-05T21:21:31.641017",
     "exception": false,
     "start_time": "2024-02-05T21:21:31.153624",
     "status": "completed"
    },
    "tags": []
   },
   "outputs": [],
   "source": [
    "# Computes and visualizes the normalized confusion matrix for the test set predictions\n",
    "CM = confusion_matrix(y_test_, y_pred)\n",
    "CM_percent = CM.astype('float') / CM.sum(axis = 1)[:, np.newaxis]\n",
    "sns.heatmap(CM_percent, fmt = 'g', center = True, cbar = False, annot = True, cmap = 'Blues')\n",
    "CM\n",
    "\n",
    "# Prints the classification report for the test set predictions\n",
    "ClassificationReport = classification_report(y_test_, y_pred)\n",
    "print('Classification Report is : ', ClassificationReport)"
   ]
  }
 ],
 "metadata": {
  "kaggle": {
   "accelerator": "gpu",
   "dataSources": [
    {
     "datasetId": 6409027,
     "sourceId": 10349832,
     "sourceType": "datasetVersion"
    }
   ],
   "dockerImageVersionId": 30839,
   "isGpuEnabled": true,
   "isInternetEnabled": true,
   "language": "python",
   "sourceType": "notebook"
  },
  "kernelspec": {
   "display_name": "Python 3 (ipykernel)",
   "language": "python",
   "name": "python3"
  },
  "language_info": {
   "codemirror_mode": {
    "name": "ipython",
    "version": 3
   },
   "file_extension": ".py",
   "mimetype": "text/x-python",
   "name": "python",
   "nbconvert_exporter": "python",
   "pygments_lexer": "ipython3",
   "version": "3.12.10"
  },
  "papermill": {
   "default_parameters": {},
   "duration": 276.948044,
   "end_time": "2024-02-05T21:21:35.454699",
   "environment_variables": {},
   "exception": null,
   "input_path": "__notebook__.ipynb",
   "output_path": "__notebook__.ipynb",
   "parameters": {},
   "start_time": "2024-02-05T21:16:58.506655",
   "version": "2.4.0"
  }
 },
 "nbformat": 4,
 "nbformat_minor": 4
}
